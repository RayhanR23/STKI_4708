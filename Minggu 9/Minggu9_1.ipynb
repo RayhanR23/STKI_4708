{
  "nbformat": 4,
  "nbformat_minor": 0,
  "metadata": {
    "colab": {
      "provenance": []
    },
    "kernelspec": {
      "name": "python3",
      "display_name": "Python 3"
    },
    "language_info": {
      "name": "python"
    }
  },
  "cells": [
    {
      "cell_type": "code",
      "execution_count": 1,
      "metadata": {
        "colab": {
          "base_uri": "https://localhost:8080/"
        },
        "id": "-4pUcc1eeWLU",
        "outputId": "4d869e40-bf1e-4106-f745-f8bd16b2cc7c"
      },
      "outputs": [
        {
          "output_type": "stream",
          "name": "stdout",
          "text": [
            "Requirement already satisfied: scikit-learn in /usr/local/lib/python3.10/dist-packages (1.2.2)\n",
            "Requirement already satisfied: numpy>=1.17.3 in /usr/local/lib/python3.10/dist-packages (from scikit-learn) (1.23.5)\n",
            "Requirement already satisfied: scipy>=1.3.2 in /usr/local/lib/python3.10/dist-packages (from scikit-learn) (1.11.3)\n",
            "Requirement already satisfied: joblib>=1.1.1 in /usr/local/lib/python3.10/dist-packages (from scikit-learn) (1.3.2)\n",
            "Requirement already satisfied: threadpoolctl>=2.0.0 in /usr/local/lib/python3.10/dist-packages (from scikit-learn) (3.2.0)\n",
            "Predicted class for D5: Politik\n"
          ]
        }
      ],
      "source": [
        "# Install necessary libraries\n",
        "!pip install scikit-learn\n",
        "\n",
        "# Import libraries\n",
        "from sklearn.feature_extraction.text import CountVectorizer\n",
        "from sklearn.neighbors import KNeighborsClassifier\n",
        "from sklearn.pipeline import make_pipeline\n",
        "\n",
        "# Create the dataset\n",
        "documents = [\"Sepakbola PSIS tahun ini semakin indah.\",\n",
        "             \"Presiden Indonesia menaikan harga BBM.\",\n",
        "             \"Partai politik Indonesia berburu suara.\",\n",
        "             \"Timnas Indonesia gagal juara AFC Olahraga\",\n",
        "             \"Presiden menaikan gaji Timnas Indonesia\"]\n",
        "\n",
        "labels = [1, 2, 2, 1, None]  # Class labels: 1 (Olahraga), 2 (Politik), None (to be predicted)\n",
        "\n",
        "# Create a k-NN model pipeline\n",
        "model = make_pipeline(CountVectorizer(), KNeighborsClassifier(n_neighbors=3))\n",
        "\n",
        "# Fit the model with the training data\n",
        "model.fit(documents[:-1], labels[:-1])\n",
        "\n",
        "# Predict the class of the new document (D5)\n",
        "predicted_class = model.predict([documents[-1]])[0]\n",
        "\n",
        "# Map the predicted class to its corresponding label\n",
        "class_labels = {1: 'Olahraga', 2: 'Politik'}\n",
        "predicted_class_label = class_labels.get(predicted_class, 'Unknown')\n",
        "\n",
        "# Print the result\n",
        "print(f\"Predicted class for D5: {predicted_class_label}\")\n"
      ]
    }
  ]
}