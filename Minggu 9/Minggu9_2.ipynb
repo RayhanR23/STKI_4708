{
  "nbformat": 4,
  "nbformat_minor": 0,
  "metadata": {
    "colab": {
      "provenance": []
    },
    "kernelspec": {
      "name": "python3",
      "display_name": "Python 3"
    },
    "language_info": {
      "name": "python"
    }
  },
  "cells": [
    {
      "cell_type": "code",
      "execution_count": 2,
      "metadata": {
        "colab": {
          "base_uri": "https://localhost:8080/"
        },
        "id": "c8c1hLf0euZh",
        "outputId": "1d5ccb84-fe76-4a09-a97c-f817d26f3d63"
      },
      "outputs": [
        {
          "output_type": "stream",
          "name": "stdout",
          "text": [
            "Predicted class for D6: Politik\n"
          ]
        }
      ],
      "source": [
        "\n",
        "from sklearn.feature_extraction.text import CountVectorizer\n",
        "from sklearn.neighbors import KNeighborsClassifier\n",
        "from sklearn.pipeline import make_pipeline\n",
        "\n",
        "documents_new = [\"Pelatihan coding di Google Developer Days semakin berkualitas.\",\n",
        "                 \"Pemerintah mengeluarkan kebijakan baru terkait pajak penghasilan.\",\n",
        "                 \"Startup teknologi meraih investasi besar.\",\n",
        "                 \"Pemilihan umum dijadwalkan pada bulan depan.\",\n",
        "                 \"Perusahaan teknologi besar mengalami penurunan saham.\"]\n",
        "\n",
        "labels_new = [1, 2, 1, 2, None]\n",
        "\n",
        "model_new = make_pipeline(CountVectorizer(), KNeighborsClassifier(n_neighbors=3))\n",
        "\n",
        "model_new.fit(documents_new[:-1], labels_new[:-1])\n",
        "\n",
        "predicted_class_new = model_new.predict([documents_new[-1]])[0]\n",
        "\n",
        "class_labels_new = {1: 'Teknologi', 2: 'Politik'}\n",
        "predicted_class_label_new = class_labels_new.get(predicted_class_new, 'Unknown')\n",
        "\n",
        "print(f\"Predicted class for D5: {predicted_class_label_new}\")\n"
      ]
    }
  ]
}