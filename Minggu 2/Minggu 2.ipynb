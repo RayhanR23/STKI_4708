{
  "nbformat": 4,
  "nbformat_minor": 0,
  "metadata": {
    "colab": {
      "provenance": []
    },
    "kernelspec": {
      "name": "python3",
      "display_name": "Python 3"
    },
    "language_info": {
      "name": "python"
    }
  },
  "cells": [
    {
      "cell_type": "markdown",
      "source": [
        "##Lower Case##\n",
        "Mengubah text menjadi huruf kecil semua"
      ],
      "metadata": {
        "id": "F4fbjwtvhJcg"
      }
    },
    {
      "cell_type": "code",
      "execution_count": 9,
      "metadata": {
        "colab": {
          "base_uri": "https://localhost:8080/"
        },
        "id": "-2DXgs2Ye4l-",
        "outputId": "88acb597-8c26-4df2-a0a1-43e7a7abb1ce"
      },
      "outputs": [
        {
          "output_type": "stream",
          "name": "stdout",
          "text": [
            "pemain tutup mulut soal pemecatan sutradara 'guardians of the galaxy'.\n"
          ]
        }
      ],
      "source": [
        "kalimat = \"Pemain Tutup Mulut soal Pemecatan Sutradara \\u0027Guardians of the Galaxy\\u0027.\"\n",
        "lower_case = kalimat.lower()\n",
        "print(lower_case)\n"
      ]
    },
    {
      "cell_type": "markdown",
      "source": [
        "## Case Folding: Removing Number ##\n",
        "Menghapus karakter angka.\n"
      ],
      "metadata": {
        "id": "Oqf7QtWthkCn"
      }
    },
    {
      "cell_type": "code",
      "source": [
        "import re\n",
        "kalimat = \"lainnya. Meski kicauan tersebut berasal dari 8 tahun yang lalu.\"\n",
        "\n",
        "hasil = re.sub(r\"\\d+\", \"\", kalimat)\n",
        "hasil"
      ],
      "metadata": {
        "colab": {
          "base_uri": "https://localhost:8080/",
          "height": 36
        },
        "id": "qBjVDYBdg3YF",
        "outputId": "5708b0fb-2df9-4751-b7f5-96a5e32a7112"
      },
      "execution_count": null,
      "outputs": [
        {
          "output_type": "execute_result",
          "data": {
            "text/plain": [
              "'lainnya. Meski kicauan tersebut berasal dari  tahun yang lalu.'"
            ],
            "application/vnd.google.colaboratory.intrinsic+json": {
              "type": "string"
            }
          },
          "metadata": {},
          "execution_count": 3
        }
      ]
    },
    {
      "cell_type": "markdown",
      "source": [
        "## Case Folding: Removing Punctuation ##\n",
        "Menghapus karakter tanda baca."
      ],
      "metadata": {
        "id": "Nm7Yg44Hh7cA"
      }
    },
    {
      "cell_type": "code",
      "source": [
        "import string\n",
        "\n",
        "kalimat = \" \\\"Ini adalah akhir pekan yang menantanng saya untuk tidak berbohong. Saya berhenti sejenak sebelum berbicara di luar. Saya hanya ingin semua orang tahu bahwa saya mencintai anggota keluarga GOTG,\\\" kicau Saldana seperti dikutip detikHOT.\"\n",
        "hasil = kalimat.translate(str.maketrans(\"\",\"\",string.punctuation))\n",
        "hasil"
      ],
      "metadata": {
        "colab": {
          "base_uri": "https://localhost:8080/",
          "height": 53
        },
        "id": "kW99xyz1hnuy",
        "outputId": "6dffc703-5d7d-4072-d9bc-cb4e265b19ba"
      },
      "execution_count": null,
      "outputs": [
        {
          "output_type": "execute_result",
          "data": {
            "text/plain": [
              "' Ini adalah akhir pekan yang menantanng saya untuk tidak berbohong Saya berhenti sejenak sebelum berbicara di luar Saya hanya ingin semua orang tahu bahwa saya mencintai anggota keluarga GOTG kicau Saldana seperti dikutip detikHOT'"
            ],
            "application/vnd.google.colaboratory.intrinsic+json": {
              "type": "string"
            }
          },
          "metadata": {},
          "execution_count": 4
        }
      ]
    },
    {
      "cell_type": "code",
      "source": [
        "import nltk\n",
        "nltk.download('punkt')"
      ],
      "metadata": {
        "colab": {
          "base_uri": "https://localhost:8080/"
        },
        "id": "bMYNlCANibS0",
        "outputId": "d0c46eca-626c-45c9-d229-2202d511682d"
      },
      "execution_count": null,
      "outputs": [
        {
          "output_type": "stream",
          "name": "stderr",
          "text": [
            "[nltk_data] Downloading package punkt to /root/nltk_data...\n",
            "[nltk_data]   Unzipping tokenizers/punkt.zip.\n"
          ]
        },
        {
          "output_type": "execute_result",
          "data": {
            "text/plain": [
              "True"
            ]
          },
          "metadata": {},
          "execution_count": 6
        }
      ]
    },
    {
      "cell_type": "code",
      "source": [
        "from nltk.tokenize import word_tokenize\n",
        "\n",
        "kalimat = \" Kabar mengenai dipecatnya sutradara \\u0027Guardians of the Galaxy\\u0027 James Gunn oleh Disney membuat satu per satu pemain ditanyai awak media.\"\n",
        "\n",
        "tokens = nltk.tokenize.word_tokenize(kalimat)\n",
        "tokens"
      ],
      "metadata": {
        "colab": {
          "base_uri": "https://localhost:8080/"
        },
        "id": "sqbzYmYph_QU",
        "outputId": "14984dbd-e5ef-4223-8629-d65798679077"
      },
      "execution_count": null,
      "outputs": [
        {
          "output_type": "execute_result",
          "data": {
            "text/plain": [
              "['Kabar',\n",
              " 'mengenai',\n",
              " 'dipecatnya',\n",
              " 'sutradara',\n",
              " \"'Guardians\",\n",
              " 'of',\n",
              " 'the',\n",
              " 'Galaxy',\n",
              " \"'\",\n",
              " 'James',\n",
              " 'Gunn',\n",
              " 'oleh',\n",
              " 'Disney',\n",
              " 'membuat',\n",
              " 'satu',\n",
              " 'per',\n",
              " 'satu',\n",
              " 'pemain',\n",
              " 'ditanyai',\n",
              " 'awak',\n",
              " 'media',\n",
              " '.']"
            ]
          },
          "metadata": {},
          "execution_count": 8
        }
      ]
    },
    {
      "cell_type": "code",
      "source": [
        "from nltk.tokenize import word_tokenize\n",
        "from nltk.probability import FreqDist\n",
        "\n",
        "kalimat = \"Chris Pratt dan Zoe Saldana pun tak mau terburu-buru mengomentari dan memilih tutup mulut.\"\n",
        "kalimat = kalimat.translate(str.maketrans('','',string.punctuation)).lower()\n",
        "\n",
        "tokens = nltk.tokenize.word_tokenize(kalimat)\n",
        "kemunculan = nltk.FreqDist(tokens)\n",
        "\n",
        "print(kemunculan.most_common())"
      ],
      "metadata": {
        "colab": {
          "base_uri": "https://localhost:8080/"
        },
        "id": "WZHfHdvnujqC",
        "outputId": "65adf304-3c25-44c2-ba61-e8f2ee1bf8d2"
      },
      "execution_count": 10,
      "outputs": [
        {
          "output_type": "stream",
          "name": "stdout",
          "text": [
            "[('dan', 2), ('chris', 1), ('pratt', 1), ('zoe', 1), ('saldana', 1), ('pun', 1), ('tak', 1), ('mau', 1), ('terburuburu', 1), ('mengomentari', 1), ('memilih', 1), ('tutup', 1), ('mulut', 1)]\n"
          ]
        }
      ]
    },
    {
      "cell_type": "code",
      "source": [
        "import matplotlib.pyplot as plt\n",
        "\n",
        "kemunculan.plot(30, cumulative=False)\n",
        "\n",
        "plt.show()"
      ],
      "metadata": {
        "colab": {
          "base_uri": "https://localhost:8080/",
          "height": 538
        },
        "id": "EFTaph0rvjbN",
        "outputId": "440a0c19-91cf-4b20-e639-050766211c40"
      },
      "execution_count": 11,
      "outputs": [
        {
          "output_type": "display_data",
          "data": {
            "text/plain": [
              "<Figure size 640x480 with 1 Axes>"
            ],
            "image/png": "[encoded data removed]"
          },
          "metadata": {}
        }
      ]
    },
    {
      "cell_type": "code",
      "source": [
        "from nltk.tokenize import sent_tokenize\n",
        "\n",
        "kalimat = \"Lewat akun Twitter, pemeran Gamora itu mengatakan akhir pekannya sangat sibuk dengan banyak pertanyaan. \\\"Ini adalah akhir pekan yang menantanng saya untuk tidak berbohong. Saya berhenti sejenak sebelum berbicara di luar. Saya hanya ingin semua orang tahu bahwa saya mencintai anggota keluarga GOTG,\\\" kicau Saldana seperti dikutip detikHOT. Berbeda dengan Chris Pratt, pria yang menjadi Star-Lord itu justru mengeluarkan ayat dalam AlKitab. \\\"Pahami ini, saudara-saudaraku yang terkasih. Biarkan setiap orang cepat mendengar, lambat berbicara, lambat marah. JAMES 1:19,\\\" kicaunya. James Gunn dipecat Disney lantaran kicauannya yang mengandung pedofilia, kasar, pelecehan, perkosaan, dan pelanggaran lainnya. Meski kicauan tersebut berasal dari 8 tahun yang lalu. Sebelumnya, dia pernah diserang netizen pada 2012 setelah dipercaya sebagai sutradara \\u0027Guardians of the Galaxy\\u0027. Ia disebut \\u0027anti-gay\\u0027 dan \\u0027seksis\\u0027. (tia/dar)\"\n",
        "\n",
        "tokens = nltk.tokenize.sent_tokenize(kalimat)\n",
        "\n",
        "print(tokens)"
      ],
      "metadata": {
        "colab": {
          "base_uri": "https://localhost:8080/"
        },
        "id": "GhpQg0ufvpMb",
        "outputId": "5e4dba3a-1a34-4b54-a5ed-31939e7d337b"
      },
      "execution_count": 13,
      "outputs": [
        {
          "output_type": "stream",
          "name": "stdout",
          "text": [
            "['Lewat akun Twitter, pemeran Gamora itu mengatakan akhir pekannya sangat sibuk dengan banyak pertanyaan.', '\"Ini adalah akhir pekan yang menantanng saya untuk tidak berbohong.', 'Saya berhenti sejenak sebelum berbicara di luar.', 'Saya hanya ingin semua orang tahu bahwa saya mencintai anggota keluarga GOTG,\" kicau Saldana seperti dikutip detikHOT.', 'Berbeda dengan Chris Pratt, pria yang menjadi Star-Lord itu justru mengeluarkan ayat dalam AlKitab.', '\"Pahami ini, saudara-saudaraku yang terkasih.', 'Biarkan setiap orang cepat mendengar, lambat berbicara, lambat marah.', 'JAMES 1:19,\" kicaunya.', 'James Gunn dipecat Disney lantaran kicauannya yang mengandung pedofilia, kasar, pelecehan, perkosaan, dan pelanggaran lainnya.', 'Meski kicauan tersebut berasal dari 8 tahun yang lalu.', \"Sebelumnya, dia pernah diserang netizen pada 2012 setelah dipercaya sebagai sutradara 'Guardians of the Galaxy'.\", \"Ia disebut 'anti-gay' dan 'seksis'.\", '(tia/dar)']\n"
          ]
        }
      ]
    }
  ]
}