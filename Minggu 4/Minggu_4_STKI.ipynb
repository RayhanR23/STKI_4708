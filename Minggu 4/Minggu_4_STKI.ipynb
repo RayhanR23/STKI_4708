{
  "nbformat": 4,
  "nbformat_minor": 0,
  "metadata": {
    "colab": {
      "provenance": []
    },
    "kernelspec": {
      "name": "python3",
      "display_name": "Python 3"
    },
    "language_info": {
      "name": "python"
    }
  },
  "cells": [
    {
      "cell_type": "code",
      "execution_count": 1,
      "metadata": {
        "colab": {
          "base_uri": "https://localhost:8080/"
        },
        "id": "HvP62tiQl8sy",
        "outputId": "e297fd59-06b1-43fe-d1f6-104e6709c08f"
      },
      "outputs": [
        {
          "output_type": "stream",
          "name": "stdout",
          "text": [
            "Dokumen yang paling mirip: Daun bewarna coklat\n",
            "Nilai Kemiripan (Cosine Similarity): 0.408248290463863\n"
          ]
        }
      ],
      "source": [
        "from sklearn.feature_extraction.text import CountVectorizer\n",
        "from sklearn.metrics.pairwise import cosine_similarity\n",
        "\n",
        "# Dokumen dan Query\n",
        "documents = [\"Daun bewarna coklat\", \"Bunga bewarna hijau\", \"Rumput bewarna hijau\"]\n",
        "query = \"Daun hijau\"\n",
        "\n",
        "# Inisialisasi CountVectorizer\n",
        "vectorizer = CountVectorizer()\n",
        "\n",
        "# Mengubah dokumen menjadi vektor kata\n",
        "document_vectors = vectorizer.fit_transform(documents)\n",
        "query_vector = vectorizer.transform([query])\n",
        "\n",
        "# Menghitung Cosine Similarity\n",
        "cosine_similarities = cosine_similarity(query_vector, document_vectors)\n",
        "\n",
        "# Mendapatkan indeks dokumen dengan kemiripan tertinggi\n",
        "most_similar_document_index = cosine_similarities.argmax()\n",
        "\n",
        "# Mendapatkan nilai kemiripan\n",
        "similarity_score = cosine_similarities[0][most_similar_document_index]\n",
        "\n",
        "# Mendapatkan dokumen terkait\n",
        "most_similar_document = documents[most_similar_document_index]\n",
        "\n",
        "print(\"Dokumen yang paling mirip:\", most_similar_document)\n",
        "print(\"Nilai Kemiripan (Cosine Similarity):\", similarity_score)\n"
      ]
    }
  ]
}