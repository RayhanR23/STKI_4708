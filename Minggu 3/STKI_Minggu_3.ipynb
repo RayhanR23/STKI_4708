{
  "nbformat": 4,
  "nbformat_minor": 0,
  "metadata": {
    "colab": {
      "provenance": []
    },
    "kernelspec": {
      "name": "python3",
      "display_name": "Python 3"
    },
    "language_info": {
      "name": "python"
    }
  },
  "cells": [
    {
      "cell_type": "code",
      "execution_count": null,
      "metadata": {
        "colab": {
          "base_uri": "https://localhost:8080/"
        },
        "id": "yzPbfwsgaGEU",
        "outputId": "59a18ec9-99ae-4e72-ad20-666929925885"
      },
      "outputs": [
        {
          "output_type": "stream",
          "name": "stdout",
          "text": [
            "Hasil Query 1 (Home AND Sales AND NOT July):\n",
            "[1, 0, 0, 0]\n",
            "\n",
            "Hasil Query 2 (Home AND July AND NOT Sales):\n",
            "[0, 0, 0, 0]\n"
          ]
        }
      ],
      "source": [
        "# Daftar dokumen\n",
        "documents = [\n",
        "    \"New home sales top forecasts\",\n",
        "    \"Home sales rise in july\",\n",
        "    \"Increase in home sales in july\",\n",
        "    \"July new home sales rise\"\n",
        "]\n",
        "\n",
        "# Fungsi untuk mengubah setiap kata menjadi huruf awalan besar\n",
        "def capitalize_words(doc):\n",
        "    words = doc.split()\n",
        "    capitalized_words = [word.capitalize() for word in words]\n",
        "    return ' '.join(capitalized_words)\n",
        "\n",
        "# Mengubah setiap dokumen\n",
        "capitalized_documents = [capitalize_words(doc) for doc in documents]\n",
        "\n",
        "# Membuat indeks kata\n",
        "word_index = {}\n",
        "for doc_id, doc in enumerate(capitalized_documents):\n",
        "    words = doc.split()\n",
        "    for word in words:\n",
        "        if word in word_index:\n",
        "            word_index[word].add(doc_id)\n",
        "        else:\n",
        "            word_index[word] = {doc_id}\n",
        "\n",
        "# Fungsi untuk mengeksekusi query boolean\n",
        "def boolean_query(query):\n",
        "    terms = query.split()\n",
        "    results = [0] * len(capitalized_documents)\n",
        "\n",
        "    for term in terms:\n",
        "        if term == \"AND\":\n",
        "            continue\n",
        "        elif term == \"NOT\":\n",
        "            continue\n",
        "        elif term in word_index:\n",
        "            doc_set = word_index[term]\n",
        "            if terms.index(term) == 0:\n",
        "                results = [1 if doc_id in doc_set else 0 for doc_id in range(len(capitalized_documents))]\n",
        "            elif terms[terms.index(term) - 1] == \"AND\":\n",
        "                results = [1 if results[doc_id] == 1  and doc_id in doc_set else 0 for doc_id in range(len(capitalized_documents))]\n",
        "            elif terms[terms.index(term) - 1] == \"NOT\":\n",
        "                results = [0 if doc_id in doc_set else 1 if results[doc_id] == 1 else 1 for doc_id in range(len(capitalized_documents))]\n",
        "        else:\n",
        "            print(f\"Kata '{term}' tidak ditemukan dalam dokumen.\")\n",
        "\n",
        "    return results\n",
        "\n",
        "# Query boolean: Home AND Sales AND NOT July\n",
        "query1 = \"Home AND Sales AND NOT July\"\n",
        "result1 = boolean_query(query1)\n",
        "\n",
        "# Query boolean: Home AND July AND NOT Sales\n",
        "query2 = \"Home AND July AND NOT Sales\"\n",
        "result2 = boolean_query(query2)\n",
        "\n",
        "# Menampilkan hasil\n",
        "print(\"Hasil Query 1 (Home AND Sales AND NOT July):\")\n",
        "print(result1)\n",
        "\n",
        "print(\"\\nHasil Query 2 (Home AND July AND NOT Sales):\")\n",
        "print(result2)\n"
      ]
    },
    {
      "cell_type": "code",
      "source": [],
      "metadata": {
        "id": "f0PlfOkwchOW"
      },
      "execution_count": null,
      "outputs": []
    }
  ]
}